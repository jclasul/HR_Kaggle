{
 "cells": [
  {
   "cell_type": "code",
   "execution_count": 1,
   "metadata": {
    "collapsed": true
   },
   "outputs": [],
   "source": [
    "import pandas as pd\n",
    "import numpy as np\n",
    "import matplotlib.pyplot as plt\n",
    "import seaborn as sns\n",
    "%matplotlib inline"
   ]
  },
  {
   "cell_type": "code",
   "execution_count": 2,
   "metadata": {
    "collapsed": true
   },
   "outputs": [],
   "source": [
    "# Plotly\n",
    "import plotly.plotly as py\n",
    "import plotly.graph_objs as go\n",
    "import plotly.tools as tls"
   ]
  },
  {
   "cell_type": "code",
   "execution_count": 3,
   "metadata": {
    "collapsed": true
   },
   "outputs": [],
   "source": [
    "# Set-up Plotly\n",
    "tls.set_credentials_file(username=\"jclasul\", api_key=\"MKXHNoKq9cRqNshsRQlh\")\n",
    "tls.set_config_file(sharing=\"public\")"
   ]
  },
  {
   "cell_type": "code",
   "execution_count": 4,
   "metadata": {
    "collapsed": true
   },
   "outputs": [],
   "source": [
    "HR = pd.read_csv(\"HRIN.csv\")"
   ]
  },
  {
   "cell_type": "code",
   "execution_count": 5,
   "metadata": {},
   "outputs": [
    {
     "data": {
      "text/plain": [
       "(1470, 35)"
      ]
     },
     "execution_count": 5,
     "metadata": {},
     "output_type": "execute_result"
    }
   ],
   "source": [
    "# 35 variables for 1470 persons\n",
    "HR.shape"
   ]
  },
  {
   "cell_type": "code",
   "execution_count": 6,
   "metadata": {},
   "outputs": [
    {
     "data": {
      "text/plain": [
       "int64     26\n",
       "object     9\n",
       "dtype: int64"
      ]
     },
     "execution_count": 6,
     "metadata": {},
     "output_type": "execute_result"
    }
   ],
   "source": [
    "# List all variables and data types\n",
    "HR.dtypes.value_counts()"
   ]
  },
  {
   "cell_type": "code",
   "execution_count": 7,
   "metadata": {},
   "outputs": [
    {
     "data": {
      "text/html": [
       "<iframe id=\"igraph\" scrolling=\"no\" style=\"border:none;\" seamless=\"seamless\" src=\"https://plot.ly/~jclasul/38.embed\" height=\"525px\" width=\"100%\"></iframe>"
      ],
      "text/plain": [
       "<plotly.tools.PlotlyDisplay object>"
      ]
     },
     "execution_count": 7,
     "metadata": {},
     "output_type": "execute_result"
    }
   ],
   "source": [
    "# Dealing with CATEGORICAL variables\n",
    "# # # # # # # # # # # #\n",
    "# Method 1:\n",
    "# One-Hot encoding\n",
    "# # # # # # # # # # # #\n",
    "\n",
    "recast = pd.DataFrame.dropna(pd.get_dummies(HR, sparse=True), axis=[0,1],how=\"all\")\n",
    "recast_corr = pd.DataFrame.dropna(recast.corr(), axis=[0,1],how=\"all\")\n",
    "\n",
    "# Plotly CONTOUR map\n",
    "# \n",
    "# values have to be in LIST for PLOTLY, convert tolist and use COLUMN names for axis\n",
    "# \n",
    "\n",
    "py.iplot([go.Contour(z=recast_corr.values.tolist(),\n",
    "                   x=recast.columns.tolist(),\n",
    "                   y=recast.columns.tolist())])"
   ]
  },
  {
   "cell_type": "code",
   "execution_count": 8,
   "metadata": {},
   "outputs": [
    {
     "data": {
      "text/html": [
       "<iframe id=\"igraph\" scrolling=\"no\" style=\"border:none;\" seamless=\"seamless\" src=\"https://plot.ly/~jclasul/40.embed\" height=\"525px\" width=\"100%\"></iframe>"
      ],
      "text/plain": [
       "<plotly.tools.PlotlyDisplay object>"
      ]
     },
     "execution_count": 8,
     "metadata": {},
     "output_type": "execute_result"
    }
   ],
   "source": [
    "# # # # # # # # # # # #\n",
    "# Method 2:\n",
    "# Label Encoding\n",
    "# # # # # # # # # # # #\n",
    "#\n",
    "# Convert all Object dtypes to Categorical\n",
    "\n",
    "def TO_CAT(col):\n",
    "    return col.astype(\"category\").cat.codes\n",
    "    \n",
    "encoding = HR.apply(TO_CAT, axis=0)\n",
    "encoding_corr = pd.DataFrame.dropna(encoding.corr(), axis=[0,1],how=\"all\")\n",
    "\n",
    "# Plotly CONTOUR map\n",
    "# \n",
    "# values have to be in LIST for PLOTLY, convert tolist and use COLUMN names for axis\n",
    "# \n",
    "\n",
    "py.iplot([go.Contour(z=encoding_corr.values.tolist(),\n",
    "                   x=encoding.columns.tolist(),\n",
    "                   y=encoding.columns.tolist())])"
   ]
  },
  {
   "cell_type": "code",
   "execution_count": 9,
   "metadata": {},
   "outputs": [
    {
     "name": "stderr",
     "output_type": "stream",
     "text": [
      "C:\\Users\\jan.claes\\Anaconda3\\lib\\site-packages\\sklearn\\cross_validation.py:41: DeprecationWarning:\n",
      "\n",
      "This module was deprecated in version 0.18 in favor of the model_selection module into which all the refactored classes and functions are moved. Also note that the interface of the new CV iterators are different from that of this module. This module will be removed in 0.20.\n",
      "\n"
     ]
    }
   ],
   "source": [
    "# START machine learning\n",
    "# something\n",
    "# something else\n",
    "# finish"
   ]
  },
  {
   "cell_type": "code",
   "execution_count": 10,
   "metadata": {
    "collapsed": true
   },
   "outputs": [],
   "source": [
    "# SPLIT data\n"
   ]
  }
 ],
 "metadata": {
  "kernelspec": {
   "display_name": "Python 3",
   "language": "python",
   "name": "python3"
  },
  "language_info": {
   "codemirror_mode": {
    "name": "ipython",
    "version": 3
   },
   "file_extension": ".py",
   "mimetype": "text/x-python",
   "name": "python",
   "nbconvert_exporter": "python",
   "pygments_lexer": "ipython3",
   "version": "3.6.3"
  }
 },
 "nbformat": 4,
 "nbformat_minor": 2
}
