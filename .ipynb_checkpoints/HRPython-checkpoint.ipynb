{
 "cells": [
  {
   "cell_type": "code",
   "execution_count": 367,
   "metadata": {
    "collapsed": true
   },
   "outputs": [],
   "source": [
    "import pandas as pd\n",
    "import numpy as np\n",
    "import matplotlib.pyplot as plt\n",
    "import seaborn as sns\n",
    "%matplotlib inline"
   ]
  },
  {
   "cell_type": "code",
   "execution_count": 368,
   "metadata": {},
   "outputs": [],
   "source": [
    "# Plotly\n",
    "import plotly.plotly as py\n",
    "import plotly.graph_objs as go\n",
    "import plotly.tools as tls"
   ]
  },
  {
   "cell_type": "code",
   "execution_count": 369,
   "metadata": {},
   "outputs": [],
   "source": [
    "# Set-up Plotly\n",
    "tls.set_credentials_file(username=\"jclasul\", api_key=\"MKXHNoKq9cRqNshsRQlh\")\n",
    "tls.set_config_file(sharing=\"public\")"
   ]
  },
  {
   "cell_type": "code",
   "execution_count": 370,
   "metadata": {},
   "outputs": [],
   "source": [
    "HR = pd.read_csv(\"HRIN.csv\")"
   ]
  },
  {
   "cell_type": "code",
   "execution_count": 371,
   "metadata": {},
   "outputs": [
    {
     "data": {
      "text/plain": [
       "(1470, 35)"
      ]
     },
     "execution_count": 371,
     "metadata": {},
     "output_type": "execute_result"
    }
   ],
   "source": [
    "# 35 variables for 1470 persons\n",
    "HR.shape"
   ]
  },
  {
   "cell_type": "code",
   "execution_count": 390,
   "metadata": {},
   "outputs": [
    {
     "data": {
      "text/plain": [
       "int64     26\n",
       "object     9\n",
       "dtype: int64"
      ]
     },
     "execution_count": 390,
     "metadata": {},
     "output_type": "execute_result"
    }
   ],
   "source": [
    "# List all variables and data types\n",
    "HR.dtypes.value_counts()"
   ]
  },
  {
   "cell_type": "code",
   "execution_count": 396,
   "metadata": {},
   "outputs": [
    {
     "data": {
      "text/html": [
       "<iframe id=\"igraph\" scrolling=\"no\" style=\"border:none;\" seamless=\"seamless\" src=\"https://plot.ly/~jclasul/36.embed\" height=\"525px\" width=\"100%\"></iframe>"
      ],
      "text/plain": [
       "<plotly.tools.PlotlyDisplay object>"
      ]
     },
     "execution_count": 396,
     "metadata": {},
     "output_type": "execute_result"
    }
   ],
   "source": [
    "# Dealing with CATEGORICAL variables\n",
    "# # # # # # # # # # # #\n",
    "# Method 1:\n",
    "# One-Hot encoding\n",
    "# # # # # # # # # # # #\n",
    "\n",
    "recast = pd.DataFrame.dropna(pd.get_dummies(HR, sparse=True), axis=[0,1],how=\"all\")\n",
    "recast_corr = pd.DataFrame.dropna(recast.corr(), axis=[0,1],how=\"all\")\n",
    "\n",
    "# Plotly CONTOUR map\n",
    "# \n",
    "# values have to be in LIST for PLOTLY, convert tolist and use COLUMN names for axis\n",
    "# \n",
    "\n",
    "py.iplot([go.Contour(z=recast_corr.values.tolist(),\n",
    "                   x=recast.columns.tolist(),\n",
    "                   y=recast.columns.tolist())])"
   ]
  },
  {
   "cell_type": "code",
   "execution_count": 395,
   "metadata": {},
   "outputs": [
    {
     "data": {
      "text/html": [
       "<iframe id=\"igraph\" scrolling=\"no\" style=\"border:none;\" seamless=\"seamless\" src=\"https://plot.ly/~jclasul/34.embed\" height=\"525px\" width=\"100%\"></iframe>"
      ],
      "text/plain": [
       "<plotly.tools.PlotlyDisplay object>"
      ]
     },
     "execution_count": 395,
     "metadata": {},
     "output_type": "execute_result"
    }
   ],
   "source": [
    "# # # # # # # # # # # #\n",
    "# Method 2:\n",
    "# Label Encoding\n",
    "# # # # # # # # # # # #\n",
    "#\n",
    "# Convert all Object dtypes to Categorical\n",
    "\n",
    "def TO_CAT(col):\n",
    "    return col.astype(\"category\").cat.codes\n",
    "    \n",
    "encoding = HR.apply(TO_CAT, axis=0)\n",
    "encoding_corr = pd.DataFrame.dropna(encoding.corr(), axis=[0,1],how=\"all\")\n",
    "\n",
    "# Plotly CONTOUR map\n",
    "# \n",
    "# values have to be in LIST for PLOTLY, convert tolist and use COLUMN names for axis\n",
    "# \n",
    "\n",
    "py.iplot([go.Contour(z=encoding_corr.values.tolist(),\n",
    "                   x=encoding.columns.tolist(),\n",
    "                   y=encoding.columns.tolist())])"
   ]
  },
  {
   "cell_type": "code",
   "execution_count": 402,
   "metadata": {},
   "outputs": [
    {
     "data": {
      "text/plain": [
       "0       1\n",
       "1       0\n",
       "2       1\n",
       "3       0\n",
       "4       0\n",
       "5       0\n",
       "6       0\n",
       "7       0\n",
       "8       0\n",
       "9       0\n",
       "10      0\n",
       "11      0\n",
       "12      0\n",
       "13      0\n",
       "14      1\n",
       "15      0\n",
       "16      0\n",
       "17      0\n",
       "18      0\n",
       "19      0\n",
       "20      0\n",
       "21      1\n",
       "22      0\n",
       "23      0\n",
       "24      1\n",
       "25      0\n",
       "26      1\n",
       "27      0\n",
       "28      0\n",
       "29      0\n",
       "       ..\n",
       "1440    0\n",
       "1441    0\n",
       "1442    1\n",
       "1443    0\n",
       "1444    1\n",
       "1445    0\n",
       "1446    0\n",
       "1447    0\n",
       "1448    0\n",
       "1449    0\n",
       "1450    0\n",
       "1451    0\n",
       "1452    1\n",
       "1453    0\n",
       "1454    0\n",
       "1455    0\n",
       "1456    0\n",
       "1457    0\n",
       "1458    0\n",
       "1459    0\n",
       "1460    0\n",
       "1461    1\n",
       "1462    0\n",
       "1463    0\n",
       "1464    0\n",
       "1465    0\n",
       "1466    0\n",
       "1467    0\n",
       "1468    0\n",
       "1469    0\n",
       "Name: Attrition_Yes, Length: 1470, dtype: uint8"
      ]
     },
     "execution_count": 402,
     "metadata": {},
     "output_type": "execute_result"
    }
   ],
   "source": []
  }
 ],
 "metadata": {
  "kernelspec": {
   "display_name": "Python 3",
   "language": "python",
   "name": "python3"
  },
  "language_info": {
   "codemirror_mode": {
    "name": "ipython",
    "version": 3
   },
   "file_extension": ".py",
   "mimetype": "text/x-python",
   "name": "python",
   "nbconvert_exporter": "python",
   "pygments_lexer": "ipython3",
   "version": "3.6.3"
  }
 },
 "nbformat": 4,
 "nbformat_minor": 2
}
